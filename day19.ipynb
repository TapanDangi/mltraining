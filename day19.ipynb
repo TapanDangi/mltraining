{
 "cells": [
  {
   "cell_type": "code",
   "execution_count": null,
   "metadata": {},
   "outputs": [],
   "source": [
    "# Regular Expressions\n",
    "\n",
    "    # .         Any character (except new line)\n",
    "    # *         zero or more occurences\n",
    "    # +         one or more occurences\n",
    "    # ?         zero or one occurence only\n",
    "    # ()        Capture & Group\n",
    "    # {x}       exact x number of occurences\n",
    "    # []        set of characters\n",
    "    # a-z       all small alphabets\n",
    "    # A-Z       all capital alphabets\n",
    "    # 0-9       all numbers\n",
    "    # ^         starting with\n",
    "    # $         ending with\n",
    "    # \\w        only word characters (alp, num, underscore)\n",
    "    # \\W        not word characters"
   ]
  },
  {
   "cell_type": "code",
   "execution_count": null,
   "metadata": {},
   "outputs": [],
   "source": [
    "from nltk.chat.util import Chat, reflections\n",
    "import speech_recognition as sr\n",
    "import pyttsx3"
   ]
  },
  {
   "cell_type": "code",
   "execution_count": null,
   "metadata": {},
   "outputs": [],
   "source": [
    "# Create the rules for chatbot\n",
    "rules = [\n",
    "    #tuple(ques, list(answers))\n",
    "    (r'(.*) temperature today', ['I do not know %1 temperature is today', 'Why should I tell you',],),\n",
    "    (r'(.*) learn nltk', ['Go to the official documentation',],),\n",
    "    (r'How are you', ['Nice', 'Fine', 'Good',],),\n",
    "]"
   ]
  },
  {
   "cell_type": "code",
   "execution_count": null,
   "metadata": {},
   "outputs": [],
   "source": [
    "# Create a chatbot\n",
    "cb = Chat(rules, reflections)"
   ]
  },
  {
   "cell_type": "code",
   "execution_count": null,
   "metadata": {},
   "outputs": [],
   "source": [
    "# To get answer based on a question\n",
    "question = input('Ask the question:')\n",
    "resp = cb.respond(question)\n",
    "print(resp)"
   ]
  },
  {
   "cell_type": "code",
   "execution_count": null,
   "metadata": {},
   "outputs": [],
   "source": [
    "# To converse with the bot in a loop\n",
    "cb.converse(quit= 'stop')"
   ]
  },
  {
   "cell_type": "code",
   "execution_count": null,
   "metadata": {},
   "outputs": [],
   "source": [
    "# Take input from speech and speaks output through speech\n",
    "engine = pyttsx3.init()\n",
    "engine.setProperty('rate', 150)\n",
    "recogniser = sr.Recognizer()\n",
    "with sr.Microphone() as mic:\n",
    "    print('Say:', end=' ')\n",
    "    audio = recogniser.listen(mic, timeout=1, phrase_time_limit=5)\n",
    "    try:\n",
    "        text = recogniser.recognize_google(audio)\n",
    "        print(text)\n",
    "        resp = cb.respond(text)\n",
    "        engine.say(resp)\n",
    "        engine.runAndWait()\n",
    "    except Exception as err:\n",
    "        print('\\nCould not recognise')"
   ]
  }
 ],
 "metadata": {
  "kernelspec": {
   "display_name": "Python 3",
   "language": "python",
   "name": "python3"
  },
  "language_info": {
   "codemirror_mode": {
    "name": "ipython",
    "version": 3
   },
   "file_extension": ".py",
   "mimetype": "text/x-python",
   "name": "python",
   "nbconvert_exporter": "python",
   "pygments_lexer": "ipython3",
   "version": "3.9.5"
  },
  "orig_nbformat": 4
 },
 "nbformat": 4,
 "nbformat_minor": 2
}
