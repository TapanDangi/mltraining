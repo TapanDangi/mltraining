{
 "cells": [
  {
   "cell_type": "code",
   "execution_count": 10,
   "metadata": {},
   "outputs": [],
   "source": [
    "import cv2\n",
    "import pandas as pd\n",
    "from time import sleep\n",
    "import face_recognition as fr"
   ]
  },
  {
   "cell_type": "code",
   "execution_count": 17,
   "metadata": {},
   "outputs": [],
   "source": [
    "fd = cv2.CascadeClassifier(cv2.data.haarcascades + 'haarcascade_frontalface_default.xml')\n",
    "vid = cv2.VideoCapture(0)\n",
    "name = input(\"Enter your name: \")\n",
    "frameCount = 0\n",
    "frameLimit = 20\n",
    "names = []\n",
    "enc = []\n",
    "\n",
    "while True:\n",
    "    flag, img = vid.read()\n",
    "    if(flag):\n",
    "        img_gray = cv2.cvtColor(img, cv2.COLOR_BGR2GRAY)                      \n",
    "        faces = fd.detectMultiScale(img_gray, scaleFactor = 1.1, minNeighbors = 5, minSize = (50,50))  \n",
    "\n",
    "        if len(faces) == 1:\n",
    "            x,y,w,h = faces[0]\n",
    "            img_face = img[y:y+h,x:x+w,:].copy()    ## Crop Image\n",
    "            img_face = cv2.resize(img_face, (400,400), cv2.INTER_CUBIC)  ## Resize\n",
    "            face_encoding = fr.face_encodings(img_face)\n",
    "            if len(face_encoding) == 1:\n",
    "                enc.append(face_encoding[0].tolist())\n",
    "                names.append(name)\n",
    "                frameCount += 1\n",
    "\n",
    "                cv2.putText(img, str(frameCount),(30,30), cv2.FONT_HERSHEY_COMPLEX,1.5,(0,0,255),5)\n",
    "                if frameCount == frameLimit:\n",
    "                    try:\n",
    "                        old_data = pd.read_csv('face_data.csv',index_col = 0,sep='|')\n",
    "                    except Exception as e:\n",
    "                        print(e)\n",
    "                    else:\n",
    "                        enc_old = old_data['encoding'].values.tolist()\n",
    "                        names_old = old_data['names'].values.tolist()\n",
    "                        enc = enc_old + enc\n",
    "                        names = names_old + names\n",
    "                    data = {'names' : names, 'encoding' : enc}\n",
    "                    pd.DataFrame(data).to_csv('face_data.csv', sep='|')\n",
    "                    break\n",
    "            \n",
    "\n",
    "        for x,y,w,h in faces:\n",
    "            cv2.rectangle(img, pt1 = (x,y), pt2 = (x+w, y+h), color = (0,0,255), thickness = 8)\n",
    "       \n",
    "        cv2.imshow('Preview', img)\n",
    "        key = cv2.waitKey(1)\n",
    "        if key == ord('q'):\n",
    "            break\n",
    "\n",
    "\n",
    "cv2.destroyAllWindows()\n",
    "vid.release()"
   ]
  },
  {
   "cell_type": "code",
   "execution_count": 6,
   "metadata": {},
   "outputs": [
    {
     "data": {
      "text/plain": [
       "(128,)"
      ]
     },
     "execution_count": 6,
     "metadata": {},
     "output_type": "execute_result"
    }
   ],
   "source": [
    "face_data = pd.read_csv('face_data.csv',index_col = 0, sep = '|')\n"
   ]
  },
  {
   "cell_type": "code",
   "execution_count": 13,
   "metadata": {},
   "outputs": [
    {
     "ename": "UFuncTypeError",
     "evalue": "ufunc 'subtract' did not contain a loop with signature matching types (dtype('float64'), dtype('<U2402')) -> None",
     "output_type": "error",
     "traceback": [
      "\u001b[1;31m---------------------------------------------------------------------------\u001b[0m",
      "\u001b[1;31mUFuncTypeError\u001b[0m                            Traceback (most recent call last)",
      "Cell \u001b[1;32mIn[13], line 18\u001b[0m\n\u001b[0;32m     16\u001b[0m \u001b[39mif\u001b[39;00m \u001b[39mlen\u001b[39m(face_encoding) \u001b[39m==\u001b[39m \u001b[39m1\u001b[39m:\n\u001b[0;32m     17\u001b[0m     \u001b[39mfor\u001b[39;00m ind, face_db \u001b[39min\u001b[39;00m face_data\u001b[39m.\u001b[39miterrows():\n\u001b[1;32m---> 18\u001b[0m         matched \u001b[39m=\u001b[39m fr\u001b[39m.\u001b[39;49mcompare_faces(face_encoding[\u001b[39m0\u001b[39;49m], face_db[\u001b[39m'\u001b[39;49m\u001b[39mencoding\u001b[39;49m\u001b[39m'\u001b[39;49m])\n\u001b[0;32m     19\u001b[0m         \u001b[39mif\u001b[39;00m matched:\n\u001b[0;32m     20\u001b[0m             \u001b[39mprint\u001b[39m(face_db[\u001b[39m'\u001b[39m\u001b[39mname\u001b[39m\u001b[39m'\u001b[39m])\n",
      "File \u001b[1;32mc:\\Users\\ANUJA\\AppData\\Local\\Programs\\Python\\Python310\\lib\\site-packages\\face_recognition\\api.py:226\u001b[0m, in \u001b[0;36mcompare_faces\u001b[1;34m(known_face_encodings, face_encoding_to_check, tolerance)\u001b[0m\n\u001b[0;32m    217\u001b[0m \u001b[39mdef\u001b[39;00m \u001b[39mcompare_faces\u001b[39m(known_face_encodings, face_encoding_to_check, tolerance\u001b[39m=\u001b[39m\u001b[39m0.6\u001b[39m):\n\u001b[0;32m    218\u001b[0m     \u001b[39m\"\"\"\u001b[39;00m\n\u001b[0;32m    219\u001b[0m \u001b[39m    Compare a list of face encodings against a candidate encoding to see if they match.\u001b[39;00m\n\u001b[0;32m    220\u001b[0m \n\u001b[1;32m   (...)\u001b[0m\n\u001b[0;32m    224\u001b[0m \u001b[39m    :return: A list of True/False values indicating which known_face_encodings match the face encoding to check\u001b[39;00m\n\u001b[0;32m    225\u001b[0m \u001b[39m    \"\"\"\u001b[39;00m\n\u001b[1;32m--> 226\u001b[0m     \u001b[39mreturn\u001b[39;00m \u001b[39mlist\u001b[39m(face_distance(known_face_encodings, face_encoding_to_check) \u001b[39m<\u001b[39m\u001b[39m=\u001b[39m tolerance)\n",
      "File \u001b[1;32mc:\\Users\\ANUJA\\AppData\\Local\\Programs\\Python\\Python310\\lib\\site-packages\\face_recognition\\api.py:75\u001b[0m, in \u001b[0;36mface_distance\u001b[1;34m(face_encodings, face_to_compare)\u001b[0m\n\u001b[0;32m     72\u001b[0m \u001b[39mif\u001b[39;00m \u001b[39mlen\u001b[39m(face_encodings) \u001b[39m==\u001b[39m \u001b[39m0\u001b[39m:\n\u001b[0;32m     73\u001b[0m     \u001b[39mreturn\u001b[39;00m np\u001b[39m.\u001b[39mempty((\u001b[39m0\u001b[39m))\n\u001b[1;32m---> 75\u001b[0m \u001b[39mreturn\u001b[39;00m np\u001b[39m.\u001b[39mlinalg\u001b[39m.\u001b[39mnorm(face_encodings \u001b[39m-\u001b[39;49m face_to_compare, axis\u001b[39m=\u001b[39m\u001b[39m1\u001b[39m)\n",
      "\u001b[1;31mUFuncTypeError\u001b[0m: ufunc 'subtract' did not contain a loop with signature matching types (dtype('float64'), dtype('<U2402')) -> None"
     ]
    }
   ],
   "source": [
    "fd = cv2.CascadeClassifier(cv2.data.haarcascades + 'haarcascade_frontalface_default.xml')\n",
    "vid = cv2.VideoCapture(0)\n",
    "face_data = pd.read_csv('face_data.csv', index_col = 0)\n",
    "\n",
    "while True:\n",
    "    flag, img = vid.read()\n",
    "    if(flag):\n",
    "        img_gray = cv2.cvtColor(img, cv2.COLOR_BGR2GRAY)                      \n",
    "        faces = fd.detectMultiScale(img_gray, scaleFactor = 1.1, minNeighbors = 5, minSize = (50,50))  \n",
    "\n",
    "        if len(faces) == 1:\n",
    "            x,y,w,h = faces[0]\n",
    "            img_face = img[y:y+h,x:x+w,:].copy()\n",
    "            img_face = cv2.resize(img_face, (400,400), cv2.INTER_CUBIC)\n",
    "            face_encoding = fr.face_encodings(img_face)\n",
    "            if len(face_encoding) == 1:\n",
    "                for ind, face_db in face_data.iterrows():\n",
    "                    matched = fr.compare_faces(face_encoding[0], face_db['encoding'])\n",
    "                    if matched:\n",
    "                        print(face_db['name'])\n",
    "            \n",
    "\n",
    "        for x,y,w,h in faces:\n",
    "            cv2.rectangle(img, pt1 = (x,y), pt2 = (x+w, y+h), color = (0,0,255), thickness = 8)\n",
    "       \n",
    "        cv2.imshow('Preview', img)\n",
    "        key = cv2.waitKey(1)\n",
    "        if key == ord('q'):\n",
    "            break\n",
    "\n",
    "\n",
    "cv2.destroyAllWindows()\n",
    "vid.release()"
   ]
  },
  {
   "cell_type": "code",
   "execution_count": null,
   "metadata": {},
   "outputs": [],
   "source": []
  }
 ],
 "metadata": {
  "kernelspec": {
   "display_name": "Python 3",
   "language": "python",
   "name": "python3"
  },
  "language_info": {
   "codemirror_mode": {
    "name": "ipython",
    "version": 3
   },
   "file_extension": ".py",
   "mimetype": "text/x-python",
   "name": "python",
   "nbconvert_exporter": "python",
   "pygments_lexer": "ipython3",
   "version": "3.9.5"
  },
  "orig_nbformat": 4
 },
 "nbformat": 4,
 "nbformat_minor": 2
}
