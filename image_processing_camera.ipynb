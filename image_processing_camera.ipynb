{
 "cells": [
  {
   "cell_type": "code",
   "execution_count": 3,
   "metadata": {},
   "outputs": [],
   "source": [
    "import cv2\n",
    "import matplotlib.pyplot as plt"
   ]
  },
  {
   "cell_type": "code",
   "execution_count": 5,
   "metadata": {},
   "outputs": [],
   "source": [
    "# Enables/Disables the camera\n",
    "vid = cv2.VideoCapture(0)"
   ]
  },
  {
   "cell_type": "code",
   "execution_count": null,
   "metadata": {},
   "outputs": [],
   "source": [
    "type(vid)"
   ]
  },
  {
   "cell_type": "code",
   "execution_count": null,
   "metadata": {},
   "outputs": [],
   "source": [
    "# Whether camera is on or off\n",
    "vid.isOpened()"
   ]
  },
  {
   "cell_type": "code",
   "execution_count": null,
   "metadata": {},
   "outputs": [],
   "source": [
    "# Wrong way to read image from camera\n",
    "k = vid.read()"
   ]
  },
  {
   "cell_type": "code",
   "execution_count": null,
   "metadata": {},
   "outputs": [],
   "source": [
    "type(k), len(k)"
   ]
  },
  {
   "cell_type": "code",
   "execution_count": 6,
   "metadata": {},
   "outputs": [],
   "source": [
    "# Correct way to read image from camera\n",
    "flag, img = vid.read()"
   ]
  },
  {
   "cell_type": "code",
   "execution_count": null,
   "metadata": {},
   "outputs": [],
   "source": [
    "# Shows discoloured image BGR if flag is true\n",
    "if flag:\n",
    "    plt.imshow(img)"
   ]
  },
  {
   "cell_type": "code",
   "execution_count": null,
   "metadata": {},
   "outputs": [],
   "source": [
    "# Shows coloured image RGB if flag is true\n",
    "if flag:\n",
    "    plt.imshow(img[:, :, : : -1])"
   ]
  },
  {
   "cell_type": "code",
   "execution_count": 7,
   "metadata": {},
   "outputs": [
    {
     "data": {
      "text/plain": [
       "(480, 640, 3)"
      ]
     },
     "execution_count": 7,
     "metadata": {},
     "output_type": "execute_result"
    }
   ],
   "source": [
    "# Shows the dimensions of the image\n",
    "img.shape"
   ]
  },
  {
   "cell_type": "code",
   "execution_count": 14,
   "metadata": {},
   "outputs": [],
   "source": [
    "# To show a series of images as a live feed\n",
    "vid = cv2.VideoCapture(0)\n",
    "while True:\n",
    "    flag, img = vid.read()  # Continuously reads images from camera\n",
    "    if flag:\n",
    "        # Processing Code\n",
    "        img_gray = cv2.cvtColor(img, cv2.COLOR_BGR2GRAY)    # Converts BGR image to Grayscale Image\n",
    "        th, img_bw = cv2.threshold(img_gray, 100, 255, cv2.THRESH_BINARY_INV)   # Converts grayscale image to Black and White\n",
    "\n",
    "        x,y,w,h = (240,320,100,100) # defines the dimensions of cropped image\n",
    "        img_cropped = img[y: y+h, x: x+w, :]\n",
    "\n",
    "        cv2.rectangle(img, pt1 = (x,y), pt2 = (x+w, y+h), color = (0,0,255), thickness = 4)    # Rectangle is drawn over the image\n",
    "\n",
    "        cv2.imshow('Preview1', img)\n",
    "        cv2.imshow('Preview2', img_gray)\n",
    "        cv2.imshow('Preview3', img_bw)\n",
    "        cv2.imshow('Preview4', img_cropped)\n",
    "\n",
    "        key = cv2.waitKey(1)    # waits for 1 key to be pressed\n",
    "        if key == ord('q'): # executed when q is pressed on keyboard\n",
    "            break\n",
    "    else:\n",
    "        break\n",
    "cv2.destroyAllWindows() # Closes all windows after stopping the camera\n",
    "vid.release()   # Camera is turned off"
   ]
  },
  {
   "cell_type": "code",
   "execution_count": null,
   "metadata": {},
   "outputs": [],
   "source": []
  }
 ],
 "metadata": {
  "kernelspec": {
   "display_name": "Python 3",
   "language": "python",
   "name": "python3"
  },
  "language_info": {
   "codemirror_mode": {
    "name": "ipython",
    "version": 3
   },
   "file_extension": ".py",
   "mimetype": "text/x-python",
   "name": "python",
   "nbconvert_exporter": "python",
   "pygments_lexer": "ipython3",
   "version": "3.9.5"
  },
  "orig_nbformat": 4
 },
 "nbformat": 4,
 "nbformat_minor": 2
}
