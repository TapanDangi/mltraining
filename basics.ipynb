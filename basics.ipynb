{
 "cells": [
  {
   "cell_type": "code",
   "execution_count": null,
   "metadata": {},
   "outputs": [],
   "source": [
    "s = '468hi3.4'          #string\n",
    "a = [4,6,8,'hi',3.4]    #list\n",
    "b = (4,6,8,'hi',3.4)    #tuple\n",
    "c = {4:6, 8:['hi',3.4]} #dict\n",
    "c2 = {1:5, 2:'hello'}   #dict2\n",
    "d = {4,6,8,'hi',3.4}    #set"
   ]
  },
  {
   "cell_type": "code",
   "execution_count": null,
   "metadata": {},
   "outputs": [],
   "source": [
    "#To concatenate tuples\n",
    "(*b,*b)"
   ]
  },
  {
   "cell_type": "code",
   "execution_count": null,
   "metadata": {},
   "outputs": [],
   "source": [
    "#To concatenate dictionaries\n",
    "{**c,**c2}"
   ]
  },
  {
   "cell_type": "code",
   "execution_count": null,
   "metadata": {},
   "outputs": [],
   "source": [
    "#Important Functions\n",
    "    # str: upper, lower, find, split, strip, join, format, count\n",
    "    # list: append, insert, sort, count, copy, remove, index, pop\n",
    "    # tuple: count, index\n",
    "    # dict: keys, values, update, get, pop\n",
    "    # set: add, difference, union, pop, remove"
   ]
  },
  {
   "cell_type": "code",
   "execution_count": null,
   "metadata": {},
   "outputs": [],
   "source": [
    "# String Formatting\n",
    "x = 20\n",
    "y = 30\n",
    "\n",
    "#using Format Specifiers\n",
    "z = 'Ek aisa data jo %d to %d hai'%(x,y)    #(deprecated)\n",
    "\n",
    "#using format function\n",
    "z = 'Ek aisa data jo {} to {} hai lekin {} hi kaafi hai'\n",
    "z = z.format(x,y,x)\n",
    "\n",
    "z1 = 'Ek aisa data jo {0} to {1} hai lekin {0} hi kaafi hai'\n",
    "z1 = z1.format(x,y)\n",
    "\n",
    "# using f-string\n",
    "zf = f'Ek aisa data jo {x} to {y} hai lekin {x} hi kaafi hai'"
   ]
  },
  {
   "cell_type": "code",
   "execution_count": null,
   "metadata": {},
   "outputs": [],
   "source": [
    "# Loops1\n",
    "# first arg in range() is inclusive and second arg is exclusive\n",
    "\n",
    "for i in range(1,5):\n",
    "    print(i)"
   ]
  },
  {
   "cell_type": "code",
   "execution_count": null,
   "metadata": {},
   "outputs": [],
   "source": [
    "# Loops2\n",
    "\n",
    "a = [1,'hello','good',76]\n",
    "b = []\n",
    "c = []\n",
    "for val in range(len(a)):\n",
    "    b.append(a[val]*2)\n",
    "for val in a:\n",
    "    c.append(val*3)\n",
    "print(b)\n",
    "print(c)"
   ]
  },
  {
   "cell_type": "code",
   "execution_count": null,
   "metadata": {},
   "outputs": [],
   "source": [
    "# Comprehension\n",
    "    # List Comprehension\n",
    "        # [output for-loop]\n",
    "        # [output for-loop if-condition]\n",
    "    # Dictionary Comprehension\n",
    "        # {key_op: value_op for-loop}\n",
    "    # Set Comprehension\n",
    "        # {output for-loop}\n",
    "    # Generator Comprehension\n",
    "        # (output for-loop)"
   ]
  },
  {
   "cell_type": "code",
   "execution_count": null,
   "metadata": {},
   "outputs": [],
   "source": [
    "# List Comprehension1 (used for one-liner loops)\n",
    "\n",
    "a = [4,'bye','well',43]\n",
    "b = []\n",
    "b = [val*4 for val in a]\n",
    "b"
   ]
  },
  {
   "cell_type": "code",
   "execution_count": null,
   "metadata": {},
   "outputs": [],
   "source": [
    "# List Comprehension2 (used with a single if-condition)\n",
    "\n",
    "k = [4,7,3,67,34,5,9,2,4,22,11,9,8]\n",
    "p = [val for val in k if val % 2 == 0]\n",
    "q = [val for val in k if val % 2 == 0 and val > 10]\n",
    "r = [val for val in k if not val % 2 and val > 10]\n",
    "print(p)\n",
    "print(q)\n",
    "print(r)"
   ]
  },
  {
   "cell_type": "code",
   "execution_count": null,
   "metadata": {},
   "outputs": [],
   "source": [
    "# List Comprehension3 (if-else condition)\n",
    "\n",
    "k = [4,7,3,67,34,5,9,2,4,22,11,9,8]\n",
    "s = [val//2 if val % 2 == 0 else val*2 for val in k]\n",
    "s"
   ]
  },
  {
   "cell_type": "code",
   "execution_count": null,
   "metadata": {},
   "outputs": [],
   "source": [
    "# List Comprehension4 (nested-else condition)\n",
    "# Multiply by 2 if odd otherwise check if it is less than 20, then divide by 2 else don't do anything\n",
    "\n",
    "k = [4,7,3,67,34,5,9,2,4,22,11,9,8]\n",
    "t = [val*2 if val % 2 == 1 else (val//2 if val < 20 else val) for val in k]\n",
    "t"
   ]
  },
  {
   "cell_type": "code",
   "execution_count": null,
   "metadata": {},
   "outputs": [],
   "source": [
    "# Dictionary Comprehension\n",
    "\n",
    "k = [4,7,3,67,34,5,9,2,4,22,11,9,8]\n",
    "u = {val: val**2 for val in k if val % 2 == 0}\n",
    "u"
   ]
  },
  {
   "cell_type": "code",
   "execution_count": null,
   "metadata": {},
   "outputs": [],
   "source": [
    "# Items function\n",
    "\n",
    "for i in u.items():\n",
    "    print(i)\n",
    "for i,j in u.items():\n",
    "    print(j,i)"
   ]
  },
  {
   "cell_type": "code",
   "execution_count": null,
   "metadata": {},
   "outputs": [],
   "source": [
    "# DocString\n",
    "def func():\n",
    "    '''Something\n",
    "    is happening\n",
    "    '''\n",
    "    print('hello')\n",
    "func()\n",
    "help(func)"
   ]
  },
  {
   "cell_type": "code",
   "execution_count": 24,
   "metadata": {},
   "outputs": [
    {
     "data": {
      "text/plain": [
       "[18, 24, 21]"
      ]
     },
     "execution_count": 24,
     "metadata": {},
     "output_type": "execute_result"
    }
   ],
   "source": [
    "# v is argument and works as list\n",
    "def ex(x=10, *v):\n",
    "    return [i*x for i in v]\n",
    "ex(3,6,8,7)"
   ]
  },
  {
   "cell_type": "code",
   "execution_count": 28,
   "metadata": {},
   "outputs": [
    {
     "data": {
      "text/plain": [
       "([24, 32], {'data': [3, 4, 5]})"
      ]
     },
     "execution_count": 28,
     "metadata": {},
     "output_type": "execute_result"
    }
   ],
   "source": [
    "# u is keyword-argument and works as dictionary\n",
    "def ex(x=10, *v, **u):\n",
    "    return [i*x for i in v], u\n",
    "ex(4,6,8, data = [3,4,5])"
   ]
  },
  {
   "cell_type": "code",
   "execution_count": null,
   "metadata": {},
   "outputs": [],
   "source": []
  }
 ],
 "metadata": {
  "kernelspec": {
   "display_name": "Python 3",
   "language": "python",
   "name": "python3"
  },
  "language_info": {
   "codemirror_mode": {
    "name": "ipython",
    "version": 3
   },
   "file_extension": ".py",
   "mimetype": "text/x-python",
   "name": "python",
   "nbconvert_exporter": "python",
   "pygments_lexer": "ipython3",
   "version": "3.9.5"
  },
  "orig_nbformat": 4
 },
 "nbformat": 4,
 "nbformat_minor": 2
}
